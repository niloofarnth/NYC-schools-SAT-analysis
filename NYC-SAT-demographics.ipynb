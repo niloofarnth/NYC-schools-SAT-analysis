{
 "cells": [
  {
   "cell_type": "code",
   "execution_count": 38,
   "metadata": {},
   "outputs": [],
   "source": [
    "import pandas as pd\n",
    "import numpy as np\n",
    "import re\n",
    "import matplotlib.pyplot as plt\n",
    "from mpl_toolkits.basemap import Basemap\n"
   ]
  },
  {
   "cell_type": "code",
   "execution_count": 39,
   "metadata": {},
   "outputs": [],
   "source": [
    "csv_files = ['ap_2010.csv','class_size.csv','demographics.csv', 'graduation.csv', 'hs_directory.csv', 'sat_results.csv']\n",
    "text_files = ['survey_all.txt', 'survey_d75.txt']"
   ]
  },
  {
   "cell_type": "markdown",
   "metadata": {},
   "source": [
    "##### creating a dictionary of all the datasets"
   ]
  },
  {
   "cell_type": "code",
   "execution_count": 40,
   "metadata": {},
   "outputs": [],
   "source": [
    "data = {}\n",
    "for file in csv_files:\n",
    "    file_name = file.split('.')\n",
    "    data[file_name[0]]= pd.read_csv(file)"
   ]
  },
  {
   "cell_type": "markdown",
   "metadata": {},
   "source": [
    "##### correcting \"survey\" data set and add it to the dictionary"
   ]
  },
  {
   "cell_type": "code",
   "execution_count": 41,
   "metadata": {},
   "outputs": [],
   "source": [
    "#read the file with its encoding\n",
    "survey_all = pd.read_csv(text_files[0], sep = '\\t', encoding = 'cp1252')\n",
    "survey_d75 = pd.read_csv(text_files[1], sep = '\\t', encoding = 'cp1252')\n",
    "\n",
    "#merging two data set to one\n",
    "survey = pd.concat([survey_all, survey_d75], axis = 0)\n",
    "\n",
    "#add survey to the data dictionary by choosing the custom and useful columns\n",
    "survey['DBN'] = survey['dbn']\n",
    "custom_columns = [\"DBN\", \"rr_s\", \"rr_t\", \"rr_p\", \"N_s\", \"N_t\", \"N_p\", \"saf_p_11\", \"com_p_11\", \"eng_p_11\", \"aca_p_11\", \"saf_t_11\", \"com_t_11\", \"eng_t_11\", \"aca_t_11\", \"saf_s_11\", \"com_s_11\", \"eng_s_11\", \"aca_s_11\", \"saf_tot_11\", \"com_tot_11\", \"eng_tot_11\", \"aca_tot_11\"]\n",
    "survey = survey[custom_columns].copy()\n",
    "data['survey'] = survey"
   ]
  },
  {
   "cell_type": "markdown",
   "metadata": {},
   "source": [
    "##### correcting \"class_size\" data set by adding DBN column"
   ]
  },
  {
   "cell_type": "code",
   "execution_count": 42,
   "metadata": {},
   "outputs": [],
   "source": [
    "#function to add a zero to left side of the numbers in CSD column\n",
    "def correct_CSD(column):\n",
    "    CSD = str(column).zfill(2) \n",
    "    column = CSD\n",
    "    return column\n",
    "data['class_size']['CSD'] = data['class_size']['CSD'].apply(correct_CSD)\n",
    "\n",
    "#create DBN column\n",
    "data['class_size']['DBN'] = data['class_size']['CSD'] + data['class_size']['SCHOOL CODE']\n",
    "\n",
    "#move DBN column to the front\n",
    "cols = list(data['class_size'])\n",
    "cols.insert(0, cols.pop(cols.index('DBN')))\n",
    "data['class_size'] = data['class_size'].loc[:, cols]"
   ]
  },
  {
   "cell_type": "markdown",
   "metadata": {},
   "source": [
    "##### correcting \"hs_directory\" data set"
   ]
  },
  {
   "cell_type": "code",
   "execution_count": 43,
   "metadata": {},
   "outputs": [],
   "source": [
    "data['hs_directory'].rename(columns = {'dbn':'DBN'}, inplace = True)"
   ]
  },
  {
   "cell_type": "markdown",
   "metadata": {},
   "source": [
    "##### correcting \"ap_2010\" data types to float"
   ]
  },
  {
   "cell_type": "code",
   "execution_count": 44,
   "metadata": {},
   "outputs": [],
   "source": [
    "for column in data['ap_2010'].columns[2:]:\n",
    "    data['ap_2010'][column] = pd.to_numeric(data['ap_2010'][column], errors = 'coerce')"
   ]
  },
  {
   "cell_type": "markdown",
   "metadata": {},
   "source": [
    "##### extracting and adding latitude and longitude columns to \"hs_directory\" for further use"
   ]
  },
  {
   "cell_type": "code",
   "execution_count": 45,
   "metadata": {},
   "outputs": [],
   "source": [
    "#function to extract the latitude and longitude from column \"Location 1\"\n",
    "def add_coordinates (column):\n",
    "    if column == \"NaN\":\n",
    "        return None\n",
    "    else:\n",
    "        location = re.findall('\\(.+\\)',column)\n",
    "        location = location[0].split(',')\n",
    "        latitude = float(location[0][1:])\n",
    "        longitude = float(location[1][:-1])\n",
    "        coordinates = [latitude, longitude]\n",
    "        return coordinates\n",
    "\n",
    "#apply the function and assign the results to coordinates and create two list from it to add to the main dataframe    \n",
    "coordinates = data['hs_directory']['Location 1'].apply(add_coordinates)\n",
    "latitude = []\n",
    "longitude = []\n",
    "for cor in coordinates:\n",
    "    latitude.append(cor[0])\n",
    "    longitude.append(cor[1])\n",
    "\n",
    "#add the new columns to DataFrame\n",
    "data['hs_directory']['latitude'] = latitude\n",
    "data['hs_directory']['longitude'] = longitude"
   ]
  },
  {
   "cell_type": "markdown",
   "metadata": {},
   "source": [
    "##### condensing the 'class_size' by deleting the rows that are not useful i.e. not for high school students or "
   ]
  },
  {
   "cell_type": "code",
   "execution_count": 46,
   "metadata": {},
   "outputs": [],
   "source": [
    "#finding all the possible values for 'GRADE' column\n",
    "data['class_size']['GRADE '].unique()\n",
    "#we just want the '09-12' for high school students, so delete the other rows if the GRADE is not '09-12'\n",
    "data['class_size'] = data['class_size'][data['class_size']['GRADE '] == '09-12']\n",
    "\n",
    "#finding the possible values for Program type and their number of repetition\n",
    "data['class_size']['PROGRAM TYPE'].unique()\n",
    "        \n",
    "#GEN ED is the most popular TYPE so delete the rest\n",
    "data['class_size'] = data['class_size'][data['class_size']['PROGRAM TYPE'] == 'GEN ED']\n",
    "\n",
    "#grouping and aggregating based on the DBN and average of other columns\n",
    "data['class_size'] =  data['class_size'].groupby('DBN', as_index = False).mean()"
   ]
  },
  {
   "cell_type": "markdown",
   "metadata": {},
   "source": [
    "##### condensing the 'demographics' by deleting the rows other than the schoolyear of 20112012 which is the same as the sat results year"
   ]
  },
  {
   "cell_type": "code",
   "execution_count": 47,
   "metadata": {},
   "outputs": [],
   "source": [
    "data['demographics'] = data['demographics'][data['demographics']['schoolyear'] == 20112012]"
   ]
  },
  {
   "cell_type": "markdown",
   "metadata": {},
   "source": [
    "##### condensing the 'graduation' by keeping only Total Cohort and  2006 "
   ]
  },
  {
   "cell_type": "code",
   "execution_count": 48,
   "metadata": {},
   "outputs": [],
   "source": [
    "data['graduation'] = data['graduation'][data['graduation']['Demographic']== 'Total Cohort'];\n",
    "data['graduation'] = data['graduation'][data['graduation']['Cohort']== '2006'];"
   ]
  },
  {
   "cell_type": "markdown",
   "metadata": {},
   "source": [
    "##### condensing the 'ap_2010' by deleting one row that was excess "
   ]
  },
  {
   "cell_type": "code",
   "execution_count": 49,
   "metadata": {},
   "outputs": [
    {
     "name": "stdout",
     "output_type": "stream",
     "text": [
      "04M610 2\n"
     ]
    }
   ],
   "source": [
    "#find the DBN that is repeated more than one row\n",
    "for (index, value) in (data['ap_2010']['DBN'].value_counts()).iteritems():\n",
    "    if value >1:\n",
    "        print(index, value)\n",
    "        \n",
    "#check those rows        \n",
    "data['ap_2010'][data['ap_2010']['DBN'] == '04M610']\n",
    "\n",
    "#delete the row that was extra by knowing its index\n",
    "data['ap_2010'] = data['ap_2010'].drop(52)"
   ]
  },
  {
   "cell_type": "markdown",
   "metadata": {},
   "source": [
    "##### summing up all the SAT sections to \"sat_score\""
   ]
  },
  {
   "cell_type": "code",
   "execution_count": 50,
   "metadata": {},
   "outputs": [],
   "source": [
    "data['sat_results']['SAT Critical Reading Avg. Score'] = pd.to_numeric(data['sat_results']['SAT Critical Reading Avg. Score'],errors = 'coerce')\n",
    "data['sat_results']['SAT Math Avg. Score'] = pd.to_numeric(data['sat_results']['SAT Math Avg. Score'],errors = 'coerce')\n",
    "data['sat_results']['SAT Writing Avg. Score'] = pd.to_numeric(data['sat_results']['SAT Writing Avg. Score'],errors = 'coerce')\n",
    "data['sat_results']['sat_score'] = data['sat_results']['SAT Critical Reading Avg. Score'] \\\n",
    "                                 + data['sat_results']['SAT Math Avg. Score'] \\\n",
    "                                 + data['sat_results']['SAT Writing Avg. Score']"
   ]
  },
  {
   "cell_type": "markdown",
   "metadata": {},
   "source": [
    "##### merging all the dataframes"
   ]
  },
  {
   "cell_type": "code",
   "execution_count": 51,
   "metadata": {},
   "outputs": [],
   "source": [
    "combined = data['sat_results']\n",
    "combined = combined.merge(data['ap_2010'], how = 'left', on = 'DBN')\n",
    "combined = combined.merge(data['graduation'], how = 'left', on = 'DBN')\n",
    "combined = combined.merge(data['class_size'], how = 'inner', on = 'DBN')\n",
    "combined = combined.merge(data['demographics'], how = 'inner', on = 'DBN')\n",
    "combined = combined.merge(data['survey'], how = 'inner', on = 'DBN')\n",
    "combined = combined.merge(data['hs_directory'], how = 'inner', on = 'DBN')"
   ]
  },
  {
   "cell_type": "markdown",
   "metadata": {},
   "source": [
    "##### filling the NaN values, and droping two repeated columns"
   ]
  },
  {
   "cell_type": "code",
   "execution_count": 52,
   "metadata": {},
   "outputs": [],
   "source": [
    "combined = combined.fillna(combined.mean())\n",
    "combined = combined.fillna(0)\n",
    "combined.drop('SchoolName', axis = 1, inplace = True)\n",
    "combined.drop('School Name', axis = 1, inplace = True)"
   ]
  },
  {
   "cell_type": "markdown",
   "metadata": {},
   "source": [
    "##### add school_dist column for further analysis"
   ]
  },
  {
   "cell_type": "code",
   "execution_count": 53,
   "metadata": {},
   "outputs": [],
   "source": [
    "combined['school_dist'] = combined['DBN'].apply(lambda x : x[0:2] )"
   ]
  },
  {
   "cell_type": "markdown",
   "metadata": {},
   "source": [
    "***"
   ]
  },
  {
   "cell_type": "markdown",
   "metadata": {},
   "source": [
    "## Finding Correlations"
   ]
  },
  {
   "cell_type": "code",
   "execution_count": 54,
   "metadata": {},
   "outputs": [
    {
     "data": {
      "text/plain": [
       "SAT Critical Reading Avg. Score         0.986821\n",
       "SAT Math Avg. Score                     0.972664\n",
       "SAT Writing Avg. Score                  0.987835\n",
       "sat_score                               1.000000\n",
       "AP Test Takers                          0.523383\n",
       "Total Exams Taken                       0.514572\n",
       "Number of Exams with scores 3 4 or 5    0.463458\n",
       "Total Cohort                            0.326443\n",
       "NUMBER OF STUDENTS / SEATS FILLED       0.395932\n",
       "NUMBER OF SECTIONS                      0.364122\n",
       "AVERAGE CLASS SIZE                      0.380888\n",
       "SIZE OF SMALLEST CLASS                  0.248778\n",
       "SIZE OF LARGEST CLASS                   0.315015\n",
       "SCHOOLWIDE PUPIL-TEACHER RATIO               NaN\n",
       "schoolyear                                   NaN\n",
       "fl_percent                                   NaN\n",
       "frl_percent                            -0.722714\n",
       "total_enrollment                        0.368810\n",
       "ell_num                                -0.153047\n",
       "ell_percent                            -0.398248\n",
       "sped_num                                0.036052\n",
       "sped_percent                           -0.447413\n",
       "asian_num                               0.476277\n",
       "asian_per                               0.571624\n",
       "black_num                               0.028702\n",
       "black_per                              -0.283930\n",
       "hispanic_num                            0.025986\n",
       "hispanic_per                           -0.398444\n",
       "white_num                               0.450429\n",
       "white_per                               0.621986\n",
       "male_num                                0.327431\n",
       "male_per                               -0.108343\n",
       "female_num                              0.388672\n",
       "female_per                              0.108389\n",
       "rr_s                                    0.231890\n",
       "rr_t                                   -0.024694\n",
       "rr_p                                    0.046779\n",
       "N_s                                     0.424319\n",
       "N_t                                     0.292384\n",
       "N_p                                     0.421948\n",
       "Name: sat_score, dtype: float64"
      ]
     },
     "execution_count": 54,
     "metadata": {},
     "output_type": "execute_result"
    }
   ],
   "source": [
    "#all the correlations\n",
    "correlations = combined.corr()\n",
    "#finding the correlations with the sat_score\n",
    "correlations['sat_score'][0:40]"
   ]
  },
  {
   "cell_type": "markdown",
   "metadata": {},
   "source": [
    "##### checking relation between the sat_score and total_engagment"
   ]
  },
  {
   "cell_type": "code",
   "execution_count": 55,
   "metadata": {},
   "outputs": [
    {
     "data": {
      "image/png": "[encoded data removed]",
      "text/plain": [
       "<Figure size 432x288 with 1 Axes>"
      ]
     },
     "metadata": {},
     "output_type": "display_data"
    }
   ],
   "source": [
    "ax = combined.plot(x = 'total_enrollment', y = 'sat_score', kind = 'scatter')\n",
    "plt.show()"
   ]
  },
  {
   "cell_type": "code",
   "execution_count": 56,
   "metadata": {},
   "outputs": [
    {
     "data": {
      "image/png": "[encoded data removed]",
      "text/plain": [
       "<Figure size 432x288 with 1 Axes>"
      ]
     },
     "metadata": {},
     "output_type": "display_data"
    }
   ],
   "source": [
    "#if I look at the cluster in the left bottom corner :\n",
    "ax = combined.plot(x = 'total_enrollment', y = 'sat_score', kind = 'scatter')\n",
    "ax.set_xlim(0,1000)\n",
    "ax.set_ylim(0,1000)\n",
    "plt.show()"
   ]
  },
  {
   "cell_type": "code",
   "execution_count": 57,
   "metadata": {},
   "outputs": [
    {
     "data": {
      "text/plain": [
       "90                  INTERNATIONAL COMMUNITY HIGH SCHOOL\n",
       "124                 ACADEMY FOR LANGUAGE AND TECHNOLOGY\n",
       "125                     BRONX INTERNATIONAL HIGH SCHOOL\n",
       "138               KINGSBRIDGE INTERNATIONAL HIGH SCHOOL\n",
       "140               INTERNATIONAL SCHOOL FOR LIBERAL ARTS\n",
       "175    PAN AMERICAN INTERNATIONAL HIGH SCHOOL AT MONROE\n",
       "178                       HIGH SCHOOL OF WORLD CULTURES\n",
       "187                  BROOKLYN INTERNATIONAL HIGH SCHOOL\n",
       "224       INTERNATIONAL HIGH SCHOOL AT PROSPECT HEIGHTS\n",
       "236                          IT TAKES A VILLAGE ACADEMY\n",
       "252                           MULTICULTURAL HIGH SCHOOL\n",
       "285              PAN AMERICAN INTERNATIONAL HIGH SCHOOL\n",
       "Name: SCHOOL NAME, dtype: object"
      ]
     },
     "execution_count": 57,
     "metadata": {},
     "output_type": "execute_result"
    }
   ],
   "source": [
    "#find those schools that are in this area in the bottom left corner\n",
    "low_enrollement = combined[combined['sat_score']<1000]\n",
    "low_enrollement = low_enrollement[low_enrollement['total_enrollment']<1000]\n",
    "low_enrollement['SCHOOL NAME']"
   ]
  },
  {
   "cell_type": "markdown",
   "metadata": {},
   "source": [
    "### conclusion : the high Pierson's r is probably because of this small region, which after checking the name of the schools, turns out to be international schools and this means that the students in these classes are mostly learning English \n",
    "### this means that I should check the correlation between the sat_score and 'ell_percent'"
   ]
  },
  {
   "cell_type": "code",
   "execution_count": 58,
   "metadata": {},
   "outputs": [
    {
     "data": {
      "text/plain": [
       "Index(['DBN', 'SCHOOL NAME', 'Num of SAT Test Takers',\n",
       "       'SAT Critical Reading Avg. Score', 'SAT Math Avg. Score',\n",
       "       'SAT Writing Avg. Score', 'sat_score', 'AP Test Takers ',\n",
       "       'Total Exams Taken', 'Number of Exams with scores 3 4 or 5',\n",
       "       ...\n",
       "       'Location 1', 'Community Board', 'Council District', 'Census Tract',\n",
       "       'BIN', 'BBL', 'NTA', 'latitude', 'longitude', 'school_dist'],\n",
       "      dtype='object', length=162)"
      ]
     },
     "execution_count": 58,
     "metadata": {},
     "output_type": "execute_result"
    }
   ],
   "source": [
    "combined.columns"
   ]
  },
  {
   "cell_type": "code",
   "execution_count": 59,
   "metadata": {},
   "outputs": [
    {
     "data": {
      "image/png": "[encoded data removed]",
      "text/plain": [
       "<Figure size 432x288 with 1 Axes>"
      ]
     },
     "metadata": {},
     "output_type": "display_data"
    }
   ],
   "source": [
    "ax = combined.plot(x = 'ell_percent', y = 'sat_score', kind = 'scatter')\n",
    "plt.show()"
   ]
  },
  {
   "cell_type": "markdown",
   "metadata": {},
   "source": [
    "#### the cluster in the right bottom is representing the same schools that I found up in the previous section to be mostly international schools\n",
    "#### the correlation for the english language learners is better than the total_enrollment"
   ]
  },
  {
   "cell_type": "code",
   "execution_count": 61,
   "metadata": {},
   "outputs": [
    {
     "name": "stderr",
     "output_type": "stream",
     "text": [
      "/anaconda3/lib/python3.6/site-packages/mpl_toolkits/basemap/__init__.py:1698: MatplotlibDeprecationWarning: The axesPatch function was deprecated in version 2.1. Use Axes.patch instead.\n",
      "  limb = ax.axesPatch\n",
      "/anaconda3/lib/python3.6/site-packages/mpl_toolkits/basemap/__init__.py:3222: MatplotlibDeprecationWarning: The ishold function was deprecated in version 2.0.\n",
      "  b = ax.ishold()\n",
      "/anaconda3/lib/python3.6/site-packages/mpl_toolkits/basemap/__init__.py:3231: MatplotlibDeprecationWarning: axes.hold is deprecated.\n",
      "    See the API Changes document (http://matplotlib.org/api/api_changes.html)\n",
      "    for more details.\n",
      "  ax.hold(b)\n"
     ]
    },
    {
     "data": {
      "image/png": "[encoded data removed]",
      "text/plain": [
       "<Figure size 432x288 with 2 Axes>"
      ]
     },
     "metadata": {},
     "output_type": "display_data"
    }
   ],
   "source": [
    "#plotting the language learner percentage for each school on map with colormap\n",
    "latitude = combined['latitude'].tolist()\n",
    "longitude = combined['longitude'].tolist()\n",
    "m = Basemap(projection = 'merc', llcrnrlat= 40.49,urcrnrlat= 40.9, llcrnrlon= -74.25,urcrnrlon =  -73.69, resolution='i')\n",
    "m.drawmapboundary(fill_color='#85A6D9')\n",
    "m.drawcoastlines(color='#6D5F4f', linewidth=.4)\n",
    "m.drawrivers(color='#6D5F47', linewidth=.4)\n",
    "#x, y = m(longitude, latitude)\n",
    "m.scatter(longitude , latitude , s = 20, zorder=2, latlon= True , c = combined['ell_percent'] , cmap = 'summer')\n",
    "plt.colorbar()\n",
    "plt.show();\n"
   ]
  },
  {
   "cell_type": "markdown",
   "metadata": {},
   "source": [
    "### school density is highest in Manhattan (the top of the map), and lower in Brooklyn, the Bronx, Queens, and Staten Island."
   ]
  },
  {
   "cell_type": "markdown",
   "metadata": {},
   "source": [
    "#### the school density is high for some regions, so it is better to plot it for each district"
   ]
  },
  {
   "cell_type": "code",
   "execution_count": 65,
   "metadata": {},
   "outputs": [
    {
     "data": {
      "text/html": [
       "<div>\n",
       "<style scoped>\n",
       "    .dataframe tbody tr th:only-of-type {\n",
       "        vertical-align: middle;\n",
       "    }\n",
       "\n",
       "    .dataframe tbody tr th {\n",
       "        vertical-align: top;\n",
       "    }\n",
       "\n",
       "    .dataframe thead th {\n",
       "        text-align: right;\n",
       "    }\n",
       "</style>\n",
       "<table border=\"1\" class=\"dataframe\">\n",
       "  <thead>\n",
       "    <tr style=\"text-align: right;\">\n",
       "      <th></th>\n",
       "      <th>school_dist</th>\n",
       "      <th>SAT Critical Reading Avg. Score</th>\n",
       "      <th>SAT Math Avg. Score</th>\n",
       "      <th>SAT Writing Avg. Score</th>\n",
       "      <th>sat_score</th>\n",
       "      <th>AP Test Takers</th>\n",
       "      <th>Total Exams Taken</th>\n",
       "      <th>Number of Exams with scores 3 4 or 5</th>\n",
       "      <th>Total Cohort</th>\n",
       "      <th>NUMBER OF STUDENTS / SEATS FILLED</th>\n",
       "      <th>...</th>\n",
       "      <th>priority08</th>\n",
       "      <th>priority09</th>\n",
       "      <th>priority10</th>\n",
       "      <th>Community Board</th>\n",
       "      <th>Council District</th>\n",
       "      <th>Census Tract</th>\n",
       "      <th>BIN</th>\n",
       "      <th>BBL</th>\n",
       "      <th>latitude</th>\n",
       "      <th>longitude</th>\n",
       "    </tr>\n",
       "  </thead>\n",
       "  <tbody>\n",
       "    <tr>\n",
       "      <th>0</th>\n",
       "      <td>01</td>\n",
       "      <td>441.833333</td>\n",
       "      <td>473.333333</td>\n",
       "      <td>439.333333</td>\n",
       "      <td>1354.500000</td>\n",
       "      <td>116.681090</td>\n",
       "      <td>173.019231</td>\n",
       "      <td>135.800000</td>\n",
       "      <td>93.500000</td>\n",
       "      <td>115.244241</td>\n",
       "      <td>...</td>\n",
       "      <td>0.0</td>\n",
       "      <td>0.0</td>\n",
       "      <td>0.0</td>\n",
       "      <td>3.000000</td>\n",
       "      <td>1.500000</td>\n",
       "      <td>1106.833333</td>\n",
       "      <td>1.004144e+06</td>\n",
       "      <td>1.003302e+09</td>\n",
       "      <td>40.719022</td>\n",
       "      <td>-73.982377</td>\n",
       "    </tr>\n",
       "    <tr>\n",
       "      <th>1</th>\n",
       "      <td>02</td>\n",
       "      <td>426.608658</td>\n",
       "      <td>444.176397</td>\n",
       "      <td>424.814746</td>\n",
       "      <td>1295.599800</td>\n",
       "      <td>128.908454</td>\n",
       "      <td>201.516827</td>\n",
       "      <td>157.495833</td>\n",
       "      <td>158.713390</td>\n",
       "      <td>149.818949</td>\n",
       "      <td>...</td>\n",
       "      <td>0.0</td>\n",
       "      <td>0.0</td>\n",
       "      <td>0.0</td>\n",
       "      <td>4.203762</td>\n",
       "      <td>2.964120</td>\n",
       "      <td>1132.687384</td>\n",
       "      <td>1.104040e+06</td>\n",
       "      <td>1.070612e+09</td>\n",
       "      <td>40.739699</td>\n",
       "      <td>-73.991386</td>\n",
       "    </tr>\n",
       "    <tr>\n",
       "      <th>2</th>\n",
       "      <td>03</td>\n",
       "      <td>428.508982</td>\n",
       "      <td>437.977794</td>\n",
       "      <td>426.879491</td>\n",
       "      <td>1293.366267</td>\n",
       "      <td>156.183494</td>\n",
       "      <td>244.522436</td>\n",
       "      <td>193.087500</td>\n",
       "      <td>183.496764</td>\n",
       "      <td>156.005994</td>\n",
       "      <td>...</td>\n",
       "      <td>0.0</td>\n",
       "      <td>0.0</td>\n",
       "      <td>0.0</td>\n",
       "      <td>7.500000</td>\n",
       "      <td>6.500000</td>\n",
       "      <td>166.666667</td>\n",
       "      <td>1.034931e+06</td>\n",
       "      <td>1.012833e+09</td>\n",
       "      <td>40.781574</td>\n",
       "      <td>-73.977370</td>\n",
       "    </tr>\n",
       "    <tr>\n",
       "      <th>3</th>\n",
       "      <td>04</td>\n",
       "      <td>397.166667</td>\n",
       "      <td>411.333333</td>\n",
       "      <td>398.666667</td>\n",
       "      <td>1207.166667</td>\n",
       "      <td>129.014423</td>\n",
       "      <td>181.685897</td>\n",
       "      <td>150.633333</td>\n",
       "      <td>123.666667</td>\n",
       "      <td>143.040289</td>\n",
       "      <td>...</td>\n",
       "      <td>0.0</td>\n",
       "      <td>0.0</td>\n",
       "      <td>0.0</td>\n",
       "      <td>11.000000</td>\n",
       "      <td>8.000000</td>\n",
       "      <td>3047.833333</td>\n",
       "      <td>1.056517e+06</td>\n",
       "      <td>1.016738e+09</td>\n",
       "      <td>40.793572</td>\n",
       "      <td>-73.942534</td>\n",
       "    </tr>\n",
       "    <tr>\n",
       "      <th>4</th>\n",
       "      <td>05</td>\n",
       "      <td>427.147990</td>\n",
       "      <td>438.225406</td>\n",
       "      <td>419.645423</td>\n",
       "      <td>1285.018820</td>\n",
       "      <td>85.722527</td>\n",
       "      <td>115.725275</td>\n",
       "      <td>142.464286</td>\n",
       "      <td>143.805825</td>\n",
       "      <td>120.623901</td>\n",
       "      <td>...</td>\n",
       "      <td>0.0</td>\n",
       "      <td>0.0</td>\n",
       "      <td>0.0</td>\n",
       "      <td>9.428571</td>\n",
       "      <td>8.142857</td>\n",
       "      <td>9372.571429</td>\n",
       "      <td>1.063080e+06</td>\n",
       "      <td>1.019721e+09</td>\n",
       "      <td>40.817077</td>\n",
       "      <td>-73.949251</td>\n",
       "    </tr>\n",
       "    <tr>\n",
       "      <th>5</th>\n",
       "      <td>06</td>\n",
       "      <td>382.003593</td>\n",
       "      <td>400.557784</td>\n",
       "      <td>382.051796</td>\n",
       "      <td>1164.613174</td>\n",
       "      <td>108.711538</td>\n",
       "      <td>159.715385</td>\n",
       "      <td>105.425000</td>\n",
       "      <td>181.028155</td>\n",
       "      <td>139.041709</td>\n",
       "      <td>...</td>\n",
       "      <td>0.0</td>\n",
       "      <td>0.0</td>\n",
       "      <td>0.0</td>\n",
       "      <td>11.178056</td>\n",
       "      <td>10.827778</td>\n",
       "      <td>2766.699444</td>\n",
       "      <td>1.226465e+06</td>\n",
       "      <td>1.171199e+09</td>\n",
       "      <td>40.848970</td>\n",
       "      <td>-73.932502</td>\n",
       "    </tr>\n",
       "    <tr>\n",
       "      <th>6</th>\n",
       "      <td>07</td>\n",
       "      <td>376.461538</td>\n",
       "      <td>380.461538</td>\n",
       "      <td>371.923077</td>\n",
       "      <td>1128.846154</td>\n",
       "      <td>73.703402</td>\n",
       "      <td>112.476331</td>\n",
       "      <td>105.276923</td>\n",
       "      <td>105.640030</td>\n",
       "      <td>97.597416</td>\n",
       "      <td>...</td>\n",
       "      <td>0.0</td>\n",
       "      <td>0.0</td>\n",
       "      <td>0.0</td>\n",
       "      <td>1.692308</td>\n",
       "      <td>12.846154</td>\n",
       "      <td>58.538462</td>\n",
       "      <td>2.032562e+06</td>\n",
       "      <td>2.024050e+09</td>\n",
       "      <td>40.816815</td>\n",
       "      <td>-73.919971</td>\n",
       "    </tr>\n",
       "    <tr>\n",
       "      <th>7</th>\n",
       "      <td>08</td>\n",
       "      <td>386.191617</td>\n",
       "      <td>395.521230</td>\n",
       "      <td>377.868536</td>\n",
       "      <td>1159.581383</td>\n",
       "      <td>118.379371</td>\n",
       "      <td>168.020979</td>\n",
       "      <td>144.731818</td>\n",
       "      <td>215.632833</td>\n",
       "      <td>129.765099</td>\n",
       "      <td>...</td>\n",
       "      <td>0.0</td>\n",
       "      <td>0.0</td>\n",
       "      <td>0.0</td>\n",
       "      <td>7.272727</td>\n",
       "      <td>16.727273</td>\n",
       "      <td>67.909091</td>\n",
       "      <td>2.037043e+06</td>\n",
       "      <td>2.036723e+09</td>\n",
       "      <td>40.823803</td>\n",
       "      <td>-73.866087</td>\n",
       "    </tr>\n",
       "    <tr>\n",
       "      <th>8</th>\n",
       "      <td>09</td>\n",
       "      <td>373.751796</td>\n",
       "      <td>383.578892</td>\n",
       "      <td>374.625898</td>\n",
       "      <td>1131.956587</td>\n",
       "      <td>71.411538</td>\n",
       "      <td>104.265385</td>\n",
       "      <td>98.470000</td>\n",
       "      <td>113.398058</td>\n",
       "      <td>100.118588</td>\n",
       "      <td>...</td>\n",
       "      <td>0.0</td>\n",
       "      <td>0.0</td>\n",
       "      <td>0.0</td>\n",
       "      <td>3.550000</td>\n",
       "      <td>15.750000</td>\n",
       "      <td>5243.750000</td>\n",
       "      <td>2.022457e+06</td>\n",
       "      <td>2.027913e+09</td>\n",
       "      <td>40.836349</td>\n",
       "      <td>-73.906240</td>\n",
       "    </tr>\n",
       "    <tr>\n",
       "      <th>9</th>\n",
       "      <td>10</td>\n",
       "      <td>403.363636</td>\n",
       "      <td>418.000000</td>\n",
       "      <td>400.863636</td>\n",
       "      <td>1222.227273</td>\n",
       "      <td>132.231206</td>\n",
       "      <td>226.914336</td>\n",
       "      <td>191.618182</td>\n",
       "      <td>161.318182</td>\n",
       "      <td>168.876526</td>\n",
       "      <td>...</td>\n",
       "      <td>0.0</td>\n",
       "      <td>0.0</td>\n",
       "      <td>0.0</td>\n",
       "      <td>7.000000</td>\n",
       "      <td>12.227273</td>\n",
       "      <td>1686.045455</td>\n",
       "      <td>1.856268e+06</td>\n",
       "      <td>1.850558e+09</td>\n",
       "      <td>40.870345</td>\n",
       "      <td>-73.898360</td>\n",
       "    </tr>\n",
       "  </tbody>\n",
       "</table>\n",
       "<p>10 rows × 74 columns</p>\n",
       "</div>"
      ],
      "text/plain": [
       "  school_dist  SAT Critical Reading Avg. Score  SAT Math Avg. Score  \\\n",
       "0          01                       441.833333           473.333333   \n",
       "1          02                       426.608658           444.176397   \n",
       "2          03                       428.508982           437.977794   \n",
       "3          04                       397.166667           411.333333   \n",
       "4          05                       427.147990           438.225406   \n",
       "5          06                       382.003593           400.557784   \n",
       "6          07                       376.461538           380.461538   \n",
       "7          08                       386.191617           395.521230   \n",
       "8          09                       373.751796           383.578892   \n",
       "9          10                       403.363636           418.000000   \n",
       "\n",
       "   SAT Writing Avg. Score    sat_score  AP Test Takers   Total Exams Taken  \\\n",
       "0              439.333333  1354.500000       116.681090         173.019231   \n",
       "1              424.814746  1295.599800       128.908454         201.516827   \n",
       "2              426.879491  1293.366267       156.183494         244.522436   \n",
       "3              398.666667  1207.166667       129.014423         181.685897   \n",
       "4              419.645423  1285.018820        85.722527         115.725275   \n",
       "5              382.051796  1164.613174       108.711538         159.715385   \n",
       "6              371.923077  1128.846154        73.703402         112.476331   \n",
       "7              377.868536  1159.581383       118.379371         168.020979   \n",
       "8              374.625898  1131.956587        71.411538         104.265385   \n",
       "9              400.863636  1222.227273       132.231206         226.914336   \n",
       "\n",
       "   Number of Exams with scores 3 4 or 5  Total Cohort  \\\n",
       "0                            135.800000     93.500000   \n",
       "1                            157.495833    158.713390   \n",
       "2                            193.087500    183.496764   \n",
       "3                            150.633333    123.666667   \n",
       "4                            142.464286    143.805825   \n",
       "5                            105.425000    181.028155   \n",
       "6                            105.276923    105.640030   \n",
       "7                            144.731818    215.632833   \n",
       "8                             98.470000    113.398058   \n",
       "9                            191.618182    161.318182   \n",
       "\n",
       "   NUMBER OF STUDENTS / SEATS FILLED    ...      priority08  priority09  \\\n",
       "0                         115.244241    ...             0.0         0.0   \n",
       "1                         149.818949    ...             0.0         0.0   \n",
       "2                         156.005994    ...             0.0         0.0   \n",
       "3                         143.040289    ...             0.0         0.0   \n",
       "4                         120.623901    ...             0.0         0.0   \n",
       "5                         139.041709    ...             0.0         0.0   \n",
       "6                          97.597416    ...             0.0         0.0   \n",
       "7                         129.765099    ...             0.0         0.0   \n",
       "8                         100.118588    ...             0.0         0.0   \n",
       "9                         168.876526    ...             0.0         0.0   \n",
       "\n",
       "   priority10  Community Board  Council District  Census Tract           BIN  \\\n",
       "0         0.0         3.000000          1.500000   1106.833333  1.004144e+06   \n",
       "1         0.0         4.203762          2.964120   1132.687384  1.104040e+06   \n",
       "2         0.0         7.500000          6.500000    166.666667  1.034931e+06   \n",
       "3         0.0        11.000000          8.000000   3047.833333  1.056517e+06   \n",
       "4         0.0         9.428571          8.142857   9372.571429  1.063080e+06   \n",
       "5         0.0        11.178056         10.827778   2766.699444  1.226465e+06   \n",
       "6         0.0         1.692308         12.846154     58.538462  2.032562e+06   \n",
       "7         0.0         7.272727         16.727273     67.909091  2.037043e+06   \n",
       "8         0.0         3.550000         15.750000   5243.750000  2.022457e+06   \n",
       "9         0.0         7.000000         12.227273   1686.045455  1.856268e+06   \n",
       "\n",
       "            BBL   latitude  longitude  \n",
       "0  1.003302e+09  40.719022 -73.982377  \n",
       "1  1.070612e+09  40.739699 -73.991386  \n",
       "2  1.012833e+09  40.781574 -73.977370  \n",
       "3  1.016738e+09  40.793572 -73.942534  \n",
       "4  1.019721e+09  40.817077 -73.949251  \n",
       "5  1.171199e+09  40.848970 -73.932502  \n",
       "6  2.024050e+09  40.816815 -73.919971  \n",
       "7  2.036723e+09  40.823803 -73.866087  \n",
       "8  2.027913e+09  40.836349 -73.906240  \n",
       "9  1.850558e+09  40.870345 -73.898360  \n",
       "\n",
       "[10 rows x 74 columns]"
      ]
     },
     "execution_count": 65,
     "metadata": {},
     "output_type": "execute_result"
    }
   ],
   "source": [
    "#plotting the percent of english learners for each district\n",
    "districts =  combined.groupby('school_dist', as_index = False).mean()\n",
    "districts.head(10)"
   ]
  },
  {
   "cell_type": "code",
   "execution_count": 67,
   "metadata": {},
   "outputs": [
    {
     "name": "stderr",
     "output_type": "stream",
     "text": [
      "/anaconda3/lib/python3.6/site-packages/mpl_toolkits/basemap/__init__.py:1698: MatplotlibDeprecationWarning: The axesPatch function was deprecated in version 2.1. Use Axes.patch instead.\n",
      "  limb = ax.axesPatch\n",
      "/anaconda3/lib/python3.6/site-packages/mpl_toolkits/basemap/__init__.py:3222: MatplotlibDeprecationWarning: The ishold function was deprecated in version 2.0.\n",
      "  b = ax.ishold()\n",
      "/anaconda3/lib/python3.6/site-packages/mpl_toolkits/basemap/__init__.py:3231: MatplotlibDeprecationWarning: axes.hold is deprecated.\n",
      "    See the API Changes document (http://matplotlib.org/api/api_changes.html)\n",
      "    for more details.\n",
      "  ax.hold(b)\n"
     ]
    },
    {
     "data": {
      "image/png": "[encoded data removed]",
      "text/plain": [
       "<Figure size 432x288 with 2 Axes>"
      ]
     },
     "metadata": {},
     "output_type": "display_data"
    }
   ],
   "source": [
    "latitude = districts['latitude'].tolist()\n",
    "longitude = districts['longitude'].tolist()\n",
    "m = Basemap(projection = 'merc', llcrnrlat= 40.49,urcrnrlat= 40.9, llcrnrlon= -74.25,urcrnrlon =  -73.69, resolution='i')\n",
    "m.drawmapboundary(fill_color='#85A6D9')\n",
    "m.drawcoastlines(color='#6D5F4f', linewidth=.4)\n",
    "m.drawrivers(color='#6D5F47', linewidth=.4)\n",
    "#x, y = m(longitude, latitude)\n",
    "m.scatter(longitude , latitude , s = 50, zorder=2, latlon= True , c = districts['ell_percent'] , cmap = 'summer')\n",
    "plt.colorbar()\n",
    "plt.show();\n",
    "\n"
   ]
  }
 ],
 "metadata": {
  "kernelspec": {
   "display_name": "Python 3",
   "language": "python",
   "name": "python3"
  },
  "language_info": {
   "codemirror_mode": {
    "name": "ipython",
    "version": 3
   },
   "file_extension": ".py",
   "mimetype": "text/x-python",
   "name": "python",
   "nbconvert_exporter": "python",
   "pygments_lexer": "ipython3",
   "version": "3.6.5"
  }
 },
 "nbformat": 4,
 "nbformat_minor": 2
}
